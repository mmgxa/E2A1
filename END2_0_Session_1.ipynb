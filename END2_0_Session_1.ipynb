{
  "nbformat": 4,
  "nbformat_minor": 0,
  "metadata": {
    "colab": {
      "name": "END2.0 Session 1.ipynb",
      "provenance": [],
      "collapsed_sections": []
    },
    "kernelspec": {
      "name": "python3",
      "display_name": "Python 3"
    },
    "language_info": {
      "name": "python"
    }
  },
  "cells": [
    {
      "cell_type": "code",
      "metadata": {
        "colab": {
          "base_uri": "https://localhost:8080/"
        },
        "id": "GC_6PeobwwkH",
        "outputId": "ddae0d27-4303-4caf-b303-6400be782c48"
      },
      "source": [
        "import torch\n",
        "from torch.autograd import Variable\n",
        "import torch.nn as nn\n",
        "import torch.nn.functional as F\n",
        "import torch.optim as optim\n",
        "import numpy as np\n",
        "import matplotlib.pyplot as plt\n",
        "%matplotlib inline\n",
        "torch.manual_seed(2)"
      ],
      "execution_count": 1,
      "outputs": [
        {
          "output_type": "execute_result",
          "data": {
            "text/plain": [
              "<torch._C.Generator at 0x7f8a58e07710>"
            ]
          },
          "metadata": {
            "tags": []
          },
          "execution_count": 1
        }
      ]
    },
    {
      "cell_type": "code",
      "metadata": {
        "id": "bL64bMTkw2GP"
      },
      "source": [
        "X = torch.Tensor([[0,0], [0,1], [1,0], [1,1]])\n",
        "Y = torch.Tensor([0, 1, 1, 0]).view(-1,1)"
      ],
      "execution_count": 2,
      "outputs": []
    },
    {
      "cell_type": "code",
      "metadata": {
        "id": "aC82kEAIw3Wf"
      },
      "source": [
        "class XOR(nn.Module):\n",
        "    def __init__(self, input_dim = 2, output_dim=1):\n",
        "        super(XOR, self).__init__()\n",
        "        self.lin1 = nn.Linear(input_dim, 11)\n",
        "        self.lin2 = nn.Linear(11, output_dim, bias=False) # line modified for solution\n",
        "    \n",
        "    def forward(self, x):\n",
        "        x = self.lin1(x)\n",
        "        x = torch.tanh(x) # line modified to remove warning\n",
        "        x = self.lin2(x)\n",
        "        return x"
      ],
      "execution_count": 3,
      "outputs": []
    },
    {
      "cell_type": "code",
      "metadata": {
        "colab": {
          "base_uri": "https://localhost:8080/"
        },
        "id": "8gQIQExYw65K",
        "outputId": "2fd54854-921a-487d-ca60-0677dbdf4f7d"
      },
      "source": [
        "model = XOR()\n",
        "print(model)\n",
        "from torchsummary import summary\n",
        "summary(model, (2,2))"
      ],
      "execution_count": 4,
      "outputs": [
        {
          "output_type": "stream",
          "text": [
            "XOR(\n",
            "  (lin1): Linear(in_features=2, out_features=11, bias=True)\n",
            "  (lin2): Linear(in_features=11, out_features=1, bias=False)\n",
            ")\n",
            "----------------------------------------------------------------\n",
            "        Layer (type)               Output Shape         Param #\n",
            "================================================================\n",
            "            Linear-1                [-1, 2, 11]              33\n",
            "            Linear-2                 [-1, 2, 1]              11\n",
            "================================================================\n",
            "Total params: 44\n",
            "Trainable params: 44\n",
            "Non-trainable params: 0\n",
            "----------------------------------------------------------------\n",
            "Input size (MB): 0.00\n",
            "Forward/backward pass size (MB): 0.00\n",
            "Params size (MB): 0.00\n",
            "Estimated Total Size (MB): 0.00\n",
            "----------------------------------------------------------------\n"
          ],
          "name": "stdout"
        }
      ]
    },
    {
      "cell_type": "code",
      "metadata": {
        "id": "yeotEq19x6XF"
      },
      "source": [
        "def weights_init(model):\n",
        "    for m in model.modules():\n",
        "        if isinstance(m, nn.Linear):\n",
        "            # initialize the weight tensor, here we use a normal distribution\n",
        "            m.weight.data.normal_(0, 1)\n",
        "\n",
        "weights_init(model)"
      ],
      "execution_count": 5,
      "outputs": []
    },
    {
      "cell_type": "code",
      "metadata": {
        "id": "WrD_sNzLx78e"
      },
      "source": [
        "loss_func = nn.L1Loss()"
      ],
      "execution_count": 6,
      "outputs": []
    },
    {
      "cell_type": "code",
      "metadata": {
        "id": "-zvbrMd2x_lA"
      },
      "source": [
        "optimizer = optim.SGD(model.parameters(), lr=0.02, momentum=0.9)\n"
      ],
      "execution_count": 7,
      "outputs": []
    },
    {
      "cell_type": "code",
      "metadata": {
        "colab": {
          "base_uri": "https://localhost:8080/"
        },
        "id": "q7tWa3D7yA5X",
        "outputId": "3f7f9d64-d41e-4c30-8698-8423622d216e"
      },
      "source": [
        "epochs = 2001  # line modified for solution\n",
        "steps = X.size(0)\n",
        "for i in range(epochs):\n",
        "    for j in range(steps):\n",
        "        data_point = np.random.randint(X.size(0))\n",
        "        x_var = Variable(X[data_point], requires_grad=False)\n",
        "        y_var = Variable(Y[data_point], requires_grad=False)\n",
        "        \n",
        "        optimizer.zero_grad()\n",
        "        y_hat = model(x_var)\n",
        "        loss = loss_func.forward(y_hat, y_var)\n",
        "        loss.backward()\n",
        "        optimizer.step()\n",
        "        \n",
        "    if i % 50 == 0:\n",
        "        print( \"Epoch: {0}, Loss: {1}, \".format(i, loss.data.numpy()))"
      ],
      "execution_count": 8,
      "outputs": [
        {
          "output_type": "stream",
          "text": [
            "Epoch: 0, Loss: 0.011628150939941406, \n",
            "Epoch: 50, Loss: 0.07194733619689941, \n",
            "Epoch: 100, Loss: 0.1766226887702942, \n",
            "Epoch: 150, Loss: 0.10333245992660522, \n",
            "Epoch: 200, Loss: 0.17400778830051422, \n",
            "Epoch: 250, Loss: 0.6395511627197266, \n",
            "Epoch: 300, Loss: 0.11388856172561646, \n",
            "Epoch: 350, Loss: 0.1813582181930542, \n",
            "Epoch: 400, Loss: 0.03227263689041138, \n",
            "Epoch: 450, Loss: 0.003675222396850586, \n",
            "Epoch: 500, Loss: 0.07699543237686157, \n",
            "Epoch: 550, Loss: 0.0535430908203125, \n",
            "Epoch: 600, Loss: 0.05220651626586914, \n",
            "Epoch: 650, Loss: 0.6609563827514648, \n",
            "Epoch: 700, Loss: 0.22611004114151, \n",
            "Epoch: 750, Loss: 0.16388964653015137, \n",
            "Epoch: 800, Loss: 0.0043212175369262695, \n",
            "Epoch: 850, Loss: 0.07027548551559448, \n",
            "Epoch: 900, Loss: 0.32636451721191406, \n",
            "Epoch: 950, Loss: 0.1180981993675232, \n",
            "Epoch: 1000, Loss: 0.22521039843559265, \n",
            "Epoch: 1050, Loss: 0.15527629852294922, \n",
            "Epoch: 1100, Loss: 0.038166940212249756, \n",
            "Epoch: 1150, Loss: 0.6263635158538818, \n",
            "Epoch: 1200, Loss: 0.08180463314056396, \n",
            "Epoch: 1250, Loss: 0.02826535701751709, \n",
            "Epoch: 1300, Loss: 0.6531121730804443, \n",
            "Epoch: 1350, Loss: 0.5955061912536621, \n",
            "Epoch: 1400, Loss: 0.06979668140411377, \n",
            "Epoch: 1450, Loss: 0.23924845457077026, \n",
            "Epoch: 1500, Loss: 0.07606887817382812, \n",
            "Epoch: 1550, Loss: 0.04436802864074707, \n",
            "Epoch: 1600, Loss: 0.0337291955947876, \n",
            "Epoch: 1650, Loss: 0.08847534656524658, \n",
            "Epoch: 1700, Loss: 0.2992229461669922, \n",
            "Epoch: 1750, Loss: 0.043751537799835205, \n",
            "Epoch: 1800, Loss: 0.23261034488677979, \n",
            "Epoch: 1850, Loss: 0.09868896007537842, \n",
            "Epoch: 1900, Loss: 0.2408832311630249, \n",
            "Epoch: 1950, Loss: 0.22148260474205017, \n",
            "Epoch: 2000, Loss: 0.1517442762851715, \n"
          ],
          "name": "stdout"
        }
      ]
    },
    {
      "cell_type": "code",
      "metadata": {
        "id": "QV0dIdveyCRi"
      },
      "source": [
        ""
      ],
      "execution_count": 8,
      "outputs": []
    }
  ]
}