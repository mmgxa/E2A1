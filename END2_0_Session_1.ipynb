{
  "nbformat": 4,
  "nbformat_minor": 0,
  "metadata": {
    "colab": {
      "name": "END2.0 Session 1.ipynb",
      "provenance": [],
      "collapsed_sections": []
    },
    "kernelspec": {
      "name": "python3",
      "display_name": "Python 3"
    },
    "language_info": {
      "name": "python"
    }
  },
  "cells": [
    {
      "cell_type": "code",
      "metadata": {
        "colab": {
          "base_uri": "https://localhost:8080/"
        },
        "id": "GC_6PeobwwkH",
        "outputId": "988723f9-beba-440b-b88c-ab0c8f13436e"
      },
      "source": [
        "import torch\n",
        "from torch.autograd import Variable\n",
        "import torch.nn as nn\n",
        "import torch.nn.functional as F\n",
        "import torch.optim as optim\n",
        "import numpy as np\n",
        "import matplotlib.pyplot as plt\n",
        "%matplotlib inline\n",
        "torch.manual_seed(2)"
      ],
      "execution_count": null,
      "outputs": [
        {
          "output_type": "execute_result",
          "data": {
            "text/plain": [
              "<torch._C.Generator at 0x7fbb0e5de8d0>"
            ]
          },
          "metadata": {
            "tags": []
          },
          "execution_count": 1
        }
      ]
    },
    {
      "cell_type": "code",
      "metadata": {
        "id": "bL64bMTkw2GP"
      },
      "source": [
        "X = torch.Tensor([[0,0], [0,1], [1,0], [1,1]])\n",
        "Y = torch.Tensor([0, 1, 1, 0]).view(-1,1)"
      ],
      "execution_count": null,
      "outputs": []
    },
    {
      "cell_type": "code",
      "metadata": {
        "id": "aC82kEAIw3Wf"
      },
      "source": [
        "class XOR(nn.Module):\n",
        "    def __init__(self, input_dim = 2, output_dim=1):\n",
        "        super(XOR, self).__init__()\n",
        "        self.lin1 = nn.Linear(input_dim, 11)\n",
        "        self.lin2 = nn.Linear(11, output_dim, bias=False) # line modified for solution\n",
        "    \n",
        "    def forward(self, x):\n",
        "        x = self.lin1(x)\n",
        "        x = torch.tanh(x) # line modified to remove warning\n",
        "        x = self.lin2(x)\n",
        "        x = torch.tanh(x) # line modified to remove warning\n",
        "        return x"
      ],
      "execution_count": null,
      "outputs": []
    },
    {
      "cell_type": "code",
      "metadata": {
        "colab": {
          "base_uri": "https://localhost:8080/"
        },
        "id": "8gQIQExYw65K",
        "outputId": "364036bd-f878-467e-e58a-e0374a4b8822"
      },
      "source": [
        "model = XOR()\n",
        "print(model)\n",
        "from torchsummary import summary\n",
        "summary(model, (2,2))"
      ],
      "execution_count": null,
      "outputs": [
        {
          "output_type": "stream",
          "text": [
            "XOR(\n",
            "  (lin1): Linear(in_features=2, out_features=11, bias=True)\n",
            "  (lin2): Linear(in_features=11, out_features=1, bias=False)\n",
            ")\n",
            "----------------------------------------------------------------\n",
            "        Layer (type)               Output Shape         Param #\n",
            "================================================================\n",
            "            Linear-1                [-1, 2, 11]              33\n",
            "            Linear-2                 [-1, 2, 1]              11\n",
            "================================================================\n",
            "Total params: 44\n",
            "Trainable params: 44\n",
            "Non-trainable params: 0\n",
            "----------------------------------------------------------------\n",
            "Input size (MB): 0.00\n",
            "Forward/backward pass size (MB): 0.00\n",
            "Params size (MB): 0.00\n",
            "Estimated Total Size (MB): 0.00\n",
            "----------------------------------------------------------------\n"
          ],
          "name": "stdout"
        }
      ]
    },
    {
      "cell_type": "code",
      "metadata": {
        "id": "yeotEq19x6XF"
      },
      "source": [
        "def weights_init(model):\n",
        "    for m in model.modules():\n",
        "        if isinstance(m, nn.Linear):\n",
        "            # initialize the weight tensor, here we use a normal distribution\n",
        "            m.weight.data.normal_(0, 1)\n",
        "\n",
        "weights_init(model)"
      ],
      "execution_count": null,
      "outputs": []
    },
    {
      "cell_type": "code",
      "metadata": {
        "id": "WrD_sNzLx78e"
      },
      "source": [
        "loss_func = nn.L1Loss()"
      ],
      "execution_count": null,
      "outputs": []
    },
    {
      "cell_type": "code",
      "metadata": {
        "id": "-zvbrMd2x_lA"
      },
      "source": [
        "optimizer = optim.SGD(model.parameters(), lr=0.02, momentum=0.9)\n"
      ],
      "execution_count": null,
      "outputs": []
    },
    {
      "cell_type": "code",
      "metadata": {
        "colab": {
          "base_uri": "https://localhost:8080/"
        },
        "id": "q7tWa3D7yA5X",
        "outputId": "109e5ea9-1bc0-487d-8131-14ae4946d76b"
      },
      "source": [
        "epochs = 2001  # line modified for solution\n",
        "steps = X.size(0)\n",
        "for i in range(epochs):\n",
        "    for j in range(steps):\n",
        "        data_point = np.random.randint(X.size(0))\n",
        "        x_var = Variable(X[data_point], requires_grad=False)\n",
        "        y_var = Variable(Y[data_point], requires_grad=False)\n",
        "        \n",
        "        optimizer.zero_grad()\n",
        "        y_hat = model(x_var)\n",
        "        loss = loss_func.forward(y_hat, y_var)\n",
        "        loss.backward()\n",
        "        optimizer.step()\n",
        "        \n",
        "    if i % 50 == 0:\n",
        "        print( \"Epoch: {0}, Loss: {1}, \".format(i, loss.data.numpy()))"
      ],
      "execution_count": null,
      "outputs": [
        {
          "output_type": "stream",
          "text": [
            "Epoch: 0, Loss: 0.3560808300971985, \n",
            "Epoch: 50, Loss: 8.821487426757812e-06, \n",
            "Epoch: 100, Loss: 0.9999955892562866, \n",
            "Epoch: 150, Loss: 0.9999956488609314, \n",
            "Epoch: 200, Loss: 0.9999956488609314, \n",
            "Epoch: 250, Loss: 0.9999317526817322, \n",
            "Epoch: 300, Loss: 0.9999321699142456, \n",
            "Epoch: 350, Loss: 0.999995768070221, \n",
            "Epoch: 400, Loss: 8.761882781982422e-06, \n",
            "Epoch: 450, Loss: 0.9999326467514038, \n",
            "Epoch: 500, Loss: 0.9999958872795105, \n",
            "Epoch: 550, Loss: 8.761882781982422e-06, \n",
            "Epoch: 600, Loss: 5.8710575103759766e-05, \n",
            "Epoch: 650, Loss: 5.793571472167969e-05, \n",
            "Epoch: 700, Loss: 8.881092071533203e-06, \n",
            "Epoch: 750, Loss: 0.9999316930770874, \n",
            "Epoch: 800, Loss: 0.9999315142631531, \n",
            "Epoch: 850, Loss: 0.999931275844574, \n",
            "Epoch: 900, Loss: 8.940696716308594e-06, \n",
            "Epoch: 950, Loss: 0.9999960064888, \n",
            "Epoch: 1000, Loss: 0.9999306797981262, \n",
            "Epoch: 1050, Loss: 5.179643630981445e-05, \n",
            "Epoch: 1100, Loss: 5.1140785217285156e-05, \n",
            "Epoch: 1150, Loss: 5.030632019042969e-05, \n",
            "Epoch: 1200, Loss: 4.976987838745117e-05, \n",
            "Epoch: 1250, Loss: 0.9999960064888, \n",
            "Epoch: 1300, Loss: 9.179115295410156e-06, \n",
            "Epoch: 1350, Loss: 0.9999289512634277, \n",
            "Epoch: 1400, Loss: 0.9999960660934448, \n",
            "Epoch: 1450, Loss: 9.238719940185547e-06, \n",
            "Epoch: 1500, Loss: 0.9999277591705322, \n",
            "Epoch: 1550, Loss: 4.6372413635253906e-05, \n",
            "Epoch: 1600, Loss: 0.9999961256980896, \n",
            "Epoch: 1650, Loss: 4.547834396362305e-05, \n",
            "Epoch: 1700, Loss: 9.417533874511719e-06, \n",
            "Epoch: 1750, Loss: 4.45246696472168e-05, \n",
            "Epoch: 1800, Loss: 0.9999262094497681, \n",
            "Epoch: 1850, Loss: 9.417533874511719e-06, \n",
            "Epoch: 1900, Loss: 4.309415817260742e-05, \n",
            "Epoch: 1950, Loss: 0.9999251961708069, \n",
            "Epoch: 2000, Loss: 4.2557716369628906e-05, \n"
          ],
          "name": "stdout"
        }
      ]
    },
    {
      "cell_type": "code",
      "metadata": {
        "id": "QV0dIdveyCRi"
      },
      "source": [
        ""
      ],
      "execution_count": null,
      "outputs": []
    }
  ]
}